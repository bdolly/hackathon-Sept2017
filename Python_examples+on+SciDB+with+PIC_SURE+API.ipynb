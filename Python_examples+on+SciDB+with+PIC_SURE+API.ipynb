{
 "cells": [
  {
   "cell_type": "markdown",
   "metadata": {},
   "source": [
    "## Python Examples to Extract and Analysis of SciDB data using PIC-SURE API"
   ]
  },
  {
   "cell_type": "markdown",
   "metadata": {},
   "source": [
    "### Introduction"
   ]
  },
  {
   "cell_type": "markdown",
   "metadata": {},
   "source": [
    "These sample codes show how to connect to SciDB and query from SSC (Simons Simplex Collection) based on PIC-SURE API. SSC is a resource of phenotypic and genetic data and biospecimens for use by autism researchers. Researchers can access to biospecimens, phenotypic data, full exome or CNV sequencing data, or to recruit SSC families for additional studies.\n",
    "\n",
    "This example mainly achieves the following functions:\n",
    "\n",
    "1. How many individuals are there in Family_ID = 11002\n",
    "2. Apply filters to query the values queal to VCF_GT. Some figures are plotted to show the propotion of different VCF_GT values.\n",
    "3. Query how many variants do all mothers/father/proband have.\n",
    "4. Visualization."
   ]
  },
  {
   "cell_type": "markdown",
   "metadata": {},
   "source": [
    "### Steps to perform the study"
   ]
  },
  {
   "cell_type": "markdown",
   "metadata": {},
   "source": [
    "1. Install all of the required packages\n",
    "2. Start a session and connect to PIC-SURE API using URLs and the API key\n",
    "3. Query the paths of each selected parameters\n",
    "4. Run SciDB query and get the data in JSON/CSV format\n",
    "5. Plot the query results for visualization.\n",
    "6. Perform your own analysis based the query."
   ]
  },
  {
   "cell_type": "markdown",
   "metadata": {},
   "source": [
    "#### Package Installation"
   ]
  },
  {
   "cell_type": "markdown",
   "metadata": {},
   "source": [
    "The required packages can be installed based on the commands from Terminal. For example:\n",
    "1. matplotlib: pip install matplotlib \n",
    "2. numpy: pip install numpy"
   ]
  },
  {
   "cell_type": "markdown",
   "metadata": {},
   "source": [
    "#### Start a session and connect to PIC-SURE API using URLs and the API key\n",
    "To get a token and start a session, go to https://ssc-dev.hms.harvard.edu. The following function is used to connect to start a session and show the available resources. If there is no errors, the connection has been made."
   ]
  },
  {
   "cell_type": "code",
   "execution_count": null,
   "metadata": {
    "collapsed": false
   },
   "outputs": [],
   "source": [
    "token=\"Your Key\"\n",
    "test_token = \"td62j7i201kp7p5m2oupt9q8ib\"\n",
    "import requests\n",
    "import matplotlib.pyplot as plt \n",
    "import random\n",
    "###  Start Session  ###\n",
    "session = requests.session()\n",
    "secureSessionResponse = session.get(\"https://ssc.hms.harvard.edu/rest/v1/securityService/startSession?key=\"+test_token)\n",
    "\n",
    "###  SciDB in Resource List  ###\n",
    "getSession = session.get(\"https://ssc.hms.harvard.edu/rest/v1/resourceService/resources\").json()\n",
    "resources = list(map(lambda resource: resource['name'], session.get(\"https://ssc.hms.harvard.edu/rest/v1/resourceService/resources\").json()))\n",
    "print(\"Resources Available \\n\")\n",
    "print(resources)\n"
   ]
  },
  {
   "cell_type": "markdown",
   "metadata": {},
   "source": [
    "#### Query the paths of each selected parameters\n",
    "This is to show the top level paths in SciDB. 'resorces[1]' means the second resource of the available resources."
   ]
  },
  {
   "cell_type": "code",
   "execution_count": 90,
   "metadata": {
    "collapsed": false,
    "scrolled": true
   },
   "outputs": [
    {
     "name": "stdout",
     "output_type": "stream",
     "text": [
      "Top Level Paths in SciDB\n",
      "Data: /SciDB/Data\n",
      "DataI: /SciDB/DataI\n",
      "Data_Load: /SciDB/Data_Load\n",
      "DBNSFP_V2p9_CHROMOSOME: /SciDB/DBNSFP_V2p9_CHROMOSOME\n",
      "DBNSFP_V2p9_VARIANT: /SciDB/DBNSFP_V2p9_VARIANT\n",
      "GENE_37: /SciDB/GENE_37\n",
      "IHI_ACCELEROMETER: /SciDB/IHI_ACCELEROMETER\n",
      "IHI_ACTIVITY: /SciDB/IHI_ACTIVITY\n",
      "IHI_LIGHT: /SciDB/IHI_LIGHT\n",
      "IHI_SLEEP_PREDICTION: /SciDB/IHI_SLEEP_PREDICTION\n",
      "Individual_ID_Index: /SciDB/Individual_ID_Index\n",
      "KG_CHROMOSOME: /SciDB/KG_CHROMOSOME\n",
      "KG_GENOTYPE: /SciDB/KG_GENOTYPE\n",
      "KG_POPULATION: /SciDB/KG_POPULATION\n",
      "KG_SAMPLE: /SciDB/KG_SAMPLE\n",
      "KG_VAR_CENTERED: /SciDB/KG_VAR_CENTERED\n",
      "KG_VAR_CV: /SciDB/KG_VAR_CV\n",
      "KG_VARIANT: /SciDB/KG_VARIANT\n",
      "KG_VAR_SVD: /SciDB/KG_VAR_SVD\n",
      "KG_VAR_SVD_2: /SciDB/KG_VAR_SVD_2\n",
      "MetaData: /SciDB/MetaData\n",
      "MetaDataI: /SciDB/MetaDataI\n",
      "model: /SciDB/model\n",
      "MODIS_DATA: /SciDB/MODIS_DATA\n",
      "MODIS_PLACES: /SciDB/MODIS_PLACES\n",
      "predictions: /SciDB/predictions\n",
      "R_array10f177d69fb11478638428261659490: /SciDB/R_array10f177d69fb11478638428261659490\n",
      "R_array11ee80cca011478639267579012213: /SciDB/R_array11ee80cca011478639267579012213\n",
      "R_array12e150711dc31478619158584331971: /SciDB/R_array12e150711dc31478619158584331971\n",
      "R_array13982a9dc1ba1478628161931912904: /SciDB/R_array13982a9dc1ba1478628161931912904\n",
      "R_array1398b6c0fe11478628161931912904: /SciDB/R_array1398b6c0fe11478628161931912904\n",
      "R_array151341fbc1b31478643957147696951: /SciDB/R_array151341fbc1b31478643957147696951\n",
      "R_array1905e1430b9371499737166532748520: /SciDB/R_array1905e1430b9371499737166532748520\n",
      "R_array1905e3c0073f11499737166532748520: /SciDB/R_array1905e3c0073f11499737166532748520\n",
      "R_array191af1ebe30a51499737887670218914: /SciDB/R_array191af1ebe30a51499737887670218914\n",
      "R_array1d3d30c5e28c1478646406852596846: /SciDB/R_array1d3d30c5e28c1478646406852596846\n",
      "R_array264f4aa3d8f41490583829040292313: /SciDB/R_array264f4aa3d8f41490583829040292313\n",
      "R_array2eb769bb9b461498161164502255902: /SciDB/R_array2eb769bb9b461498161164502255902\n",
      "TCGA_2015_06_01_CLINICAL_STD: /SciDB/TCGA_2015_06_01_CLINICAL_STD\n",
      "TCGA_2015_06_01_GENE_STD: /SciDB/TCGA_2015_06_01_GENE_STD\n",
      "TCGA_2015_06_01_GENOME_WIDE_SNP_6_PROBE_STD: /SciDB/TCGA_2015_06_01_GENOME_WIDE_SNP_6_PROBE_STD\n",
      "TCGA_2015_06_01_GENOME_WIDE_SNP_6_STD: /SciDB/TCGA_2015_06_01_GENOME_WIDE_SNP_6_STD\n",
      "TCGA_2015_06_01_ILLUMINAHISEQ_MIRNASEQ_PROBE_STD: /SciDB/TCGA_2015_06_01_ILLUMINAHISEQ_MIRNASEQ_PROBE_STD\n",
      "TCGA_2015_06_01_ILLUMINAHISEQ_MIRNASEQ_STD: /SciDB/TCGA_2015_06_01_ILLUMINAHISEQ_MIRNASEQ_STD\n",
      "TCGA_2015_06_01_MUTATION_STD: /SciDB/TCGA_2015_06_01_MUTATION_STD\n",
      "TCGA_2015_06_01_PATIENT_STD: /SciDB/TCGA_2015_06_01_PATIENT_STD\n",
      "TCGA_2015_06_01_PROTEIN_EXP_PROBE_STD: /SciDB/TCGA_2015_06_01_PROTEIN_EXP_PROBE_STD\n",
      "TCGA_2015_06_01_PROTEIN_EXP_STD: /SciDB/TCGA_2015_06_01_PROTEIN_EXP_STD\n",
      "TCGA_2015_06_01_RNAseq_STD: /SciDB/TCGA_2015_06_01_RNAseq_STD\n",
      "TCGA_2015_06_01_RNAseqV2_STD: /SciDB/TCGA_2015_06_01_RNAseqV2_STD\n",
      "TCGA_2015_06_01_SAMPLE_STD: /SciDB/TCGA_2015_06_01_SAMPLE_STD\n",
      "TCGA_2015_06_01_SAMPLE_TYPE_STD: /SciDB/TCGA_2015_06_01_SAMPLE_TYPE_STD\n",
      "TCGA_2015_06_01_TUMOR_TYPE_STD: /SciDB/TCGA_2015_06_01_TUMOR_TYPE_STD\n",
      "Variant_CountI: /SciDB/Variant_CountI\n",
      "Variant_ID_Index: /SciDB/Variant_ID_Index\n",
      "Variant_Load: /SciDB/Variant_Load\n",
      "Variants: /SciDB/Variants\n",
      "VariantsI: /SciDB/VariantsI\n",
      "Variants_Var_ID_index: /SciDB/Variants_Var_ID_index\n"
     ]
    }
   ],
   "source": [
    "\"\"\" Scidb Connection \"\"\"\n",
    "###  SciDB Array List  ###\n",
    "print(\"Top Level Paths in \"+resources[0])\n",
    "scidbconnect = session.get(\"https://ssc.hms.harvard.edu/rest/v1/resourceService/path/\" + resources[0]).json()\n",
    "for name in scidbconnect:\n",
    "    print(name['name'] + ': ' + name['pui'])"
   ]
  },
  {
   "cell_type": "markdown",
   "metadata": {},
   "source": [
    "#### Query the attributes and dimensions of each selected table\n",
    "The following function is used to show SciDB attributes (table DataI and table VariantsI). The table name can be changed if you want to show other tables."
   ]
  },
  {
   "cell_type": "code",
   "execution_count": 92,
   "metadata": {
    "collapsed": false,
    "scrolled": true
   },
   "outputs": [
    {
     "name": "stdout",
     "output_type": "stream",
     "text": [
      "\n",
      " ---Names in Data--- \n",
      "\n",
      "VCF_GT: /SciDB/DataI/VCF_GT\n",
      "Ref: /SciDB/DataI/Ref\n",
      "Alt: /SciDB/DataI/Alt\n",
      "TNRA: /SciDB/DataI/TNRA\n",
      "VarID: /SciDB/DataI/VarID\n",
      "VCF_PL: /SciDB/DataI/VCF_PL\n",
      "VCF_AD: /SciDB/DataI/VCF_AD\n",
      "VCF_CQ: /SciDB/DataI/VCF_CQ\n",
      "VCF_DP: /SciDB/DataI/VCF_DP\n",
      "Individual_ID: /SciDB/DataI/Individual_ID\n",
      "\n",
      " ---Names in DataI--- \n",
      "\n",
      "VCF_GT: /SciDB/DataI/VCF_GT\n",
      "Ref: /SciDB/DataI/Ref\n",
      "Alt: /SciDB/DataI/Alt\n",
      "TNRA: /SciDB/DataI/TNRA\n",
      "VarID: /SciDB/DataI/VarID\n",
      "VCF_PL: /SciDB/DataI/VCF_PL\n",
      "VCF_AD: /SciDB/DataI/VCF_AD\n",
      "VCF_CQ: /SciDB/DataI/VCF_CQ\n",
      "VCF_DP: /SciDB/DataI/VCF_DP\n",
      "Individual_ID: /SciDB/DataI/Individual_ID\n",
      "\n",
      " ---Names in VariantsI--- \n",
      "\n",
      "\"ExAC_ALL\" \"ClinVar_CLINSIG\" \"AAChange_ensGene_affectedExons\" \"CADD_phred\" \"Alt\" \"FATHMM_score\" \"AAChange_ensGene_proteinChanges\" \"AAChange_knownGene_cDNAchanges\" \"ExonicFunc_ensGene\" \"PopFreqMax\" \"VCF_ID\" \"MutationTaster_pred\" \"ClinVar_CLNACC\" \"ExAC_AFR\" \"FATHMM_pred\" \"MutationTaster_score\" \"ClinVar_CLNDSDB\" \"AAChange_ensGene_affectedTranscripts\" \"MutationAssessor_score\" \"LRT_pred\" \"AAChange_refGene_proteinChanges\" \"ExAC_FIN\" \"Func_refGene\" \"ExAC_EAS\" \"ESP6500siv2_ALL\" \"ClinVar_CLNDBN\" \"MutationAssessor_pred\" \"ClinVar_CLNDSDBID\" \"Func_knownGene\" \"SiPhy_29way_logOdds\" \"LRT_score\" \"phyloP100way_vertebrate\" \"THOUSAND_G_ALL\" \"VEST3_score\" \"VCF_QUAL\" \"RadialSVM_score\" \"ExAC_SAS\" \"AAChange_ensGene_cDNAchanges\" \"VCF_ALT\" \"RadialSVM_pred\" \"LR_score\" \"LR_pred\" \"CADDindel_phred\" \"AAChange_knownGene_affectedTranscripts\" \"THOUSAND_G_EUR\" \"MSigDBv4_2\" \"Gene_refGene\" \"ESP6500siv2_AA\" \"GERP_RS\" \"VCF_POS\" \"ClinVar_CLNREVSTAT\" \"Polyphen2_HDIV_score\" \"THOUSAND_G_EAS\" \"VCF_CHROM\" \"SIFT_pred\" \"CADD_raw\" \"CADDindel\" \"AAChange_knownGene_affectedExons\" \"CG46\" \"Func_ensGene\" \"Var_ID\" \"THOUSAND_G_SAS\" \"VCF_REF\" \"THOUSAND_G_AMR\" \"SIFT_score\" \"AAChange_refGene_affectedTranscripts\" \"ExAC_NFE\" \"Ref\" \"ExAC_AMR\" \"AAChange_knownGene_proteinChanges\" \"avsnp142\" \"Gene_ensGene\" \"VCF_FILTER\" \"Polyphen2_HVAR_score\" \"AAChange_refGene_affectedExons\" \"phyloP46way_placental\" \"Polyphen2_HDIV_pred\" \"THOUSAND_G_AFR\" \"ExonicFunc_refGene\" \"AAChange_refGene_cDNAchanges\" \"ExAC_OTH\" \"Gene_knownGene\" \"Polyphen2_HVAR_pred\" \"ExonicFunc_knownGene\" \"ESP6500siv2_EA\" \"VariantID\" "
     ]
    }
   ],
   "source": [
    "### SciDB Array Attributes and Dimensions ###\n",
    "DataI = session.get(\"https://ssc.hms.harvard.edu/rest/v1/resourceService/path/SciDB/DataI/\").json()# single mutation file\n",
    "VariantsI = session.get(\"https://ssc.hms.harvard.edu/rest/v1/resourceService/path/SciDB/VariantsI/\").json()# overall annotation file\n",
    "print(\"\\n ---Names in Data--- \\n\")\n",
    "for name in DataI:\n",
    "    print(name['name'] + ': ' + name['pui'])\n",
    "    \n",
    "print(\"\\n ---Names in DataI--- \\n\")\n",
    "for name in DataI:\n",
    "    print(name['name'] + ': ' + name['pui'])\n",
    "    \n",
    "print(\"\\n ---Names in VariantsI--- \\n\")\n",
    "for name in VariantsI:\n",
    "    print('\"' + name['name'] + '\" ', end='')"
   ]
  },
  {
   "cell_type": "markdown",
   "metadata": {},
   "source": [
    "### Running the Queries \n",
    "After connecting to API, the 'select' and 'where' can be used to retrieve the path of each selected variables based on query condition. The input of this query function would be the VCF_GT values you want to query. This function will return all of the results after querying.\n",
    "\n",
    "This query is to calculate the number of family members with different VCF_GT values. For instance, the value of VCF_GT can be \"0/1\" or \"0/2\"."
   ]
  },
  {
   "cell_type": "code",
   "execution_count": 248,
   "metadata": {
    "collapsed": false,
    "scrolled": true
   },
   "outputs": [
    {
     "name": "stdout",
     "output_type": "stream",
     "text": [
      "0/1\n",
      "resultId: 230829\n",
      "DONE...\n",
      "Wait until query is done processing\n",
      "=>=>=>=>=>=>=>=>=>=>=>=>=>=>=>=>=>=>=>=>=>=>=>=>=>=>=>=>=>=>=>=>=>=>=>=>=>=>=>=>=>=>=>=>=>=>=>=>=>=>=>=>=>=>=>=>=>=>=>=>=>=>=>=>=>=>=>=>=>=>=>=>=>=>=>=>=>=>=>=>=>=>=>=>=>=>=>=>=>=>=>=>=>=>=>=>=>=>=>=>=>=>=>=>=>=>=>=>=>=>=>=>=>=>=>=>=>=>=>=>=>=>=>=>=>=>=>=>=>=>=>=>=>=>=>=>=>=>=>=>=>=>=>=>=>=>=>=>=>=>=>=>=>=>=>=>=>=>=>=>=>=>=>=>\t\n",
      "Status : AVAILABLE\n",
      "-----Status Available------\n",
      "180686602\n",
      "0/2\n",
      "resultId: 230831\n",
      "DONE...\n",
      "Wait until query is done processing\n",
      "=>=>=>=>=>=>=>=>=>=>=>=>=>=>=>=>=>=>=>=>=>=>=>=>=>=>=>=>=>=>=>=>=>=>=>=>=>=>=>=>=>=>=>=>=>=>=>=>=>=>=>=>=>=>=>=>=>=>=>=>=>=>=>=>=>=>=>=>=>=>=>=>=>=>=>=>=>=>=>=>=>=>=>=>=>=>=>=>=>=>=>=>=>=>=>=>=>=>=>=>=>=>=>=>=>=>=>=>=>=>=>=>=>=>=>=>=>=>=>=>=>=>=>=>=>=>=>=>=>=>=>=>=>=>=>=>=>=>=>=>=>=>=>=>=>=>=>=>=>=>=>=>=>=>=>=>=>=>=>=>=>=>=>=>=>=>=>=>=>=>=>=>=>=>=>=>=>=>=>=>=>=>=>=>=>=>=>=>=>=>=>=>=>=>=>=>=>=>=>=>=>=>=>=>=>=>=>=>=>=>=>=>=>=>=>=>=>=>=>=>=>=>=>=>\t\n",
      "Status : AVAILABLE\n",
      "-----Status Available------\n",
      "1431979\n",
      "0/3\n",
      "resultId: 230833\n",
      "DONE...\n",
      "Wait until query is done processing\n",
      "=>=>=>=>=>=>=>=>=>=>=>=>=>=>=>=>=>=>=>=>=>=>=>=>=>=>=>=>=>=>=>=>=>=>=>=>=>=>=>=>=>=>=>=>=>=>=>=>=>=>=>=>=>=>=>=>=>=>=>=>=>=>=>=>=>=>=>=>=>=>=>=>=>=>=>=>=>=>=>=>=>=>=>=>=>=>=>=>=>=>=>=>=>=>=>=>=>=>=>=>=>=>=>=>=>=>=>=>=>=>=>=>=>=>=>=>=>=>=>=>=>=>=>=>=>=>=>=>=>=>=>=>=>=>=>=>=>=>=>=>=>=>=>=>=>=>=>=>=>=>=>=>=>=>=>=>=>=>=>=>=>=>=>=>=>=>=>=>=>=>=>=>=>=>=>=>=>=>=>=>=>=>=>=>=>=>=>=>=>=>=>=>=>=>=>=>=>=>=>=>=>=>=>=>=>=>=>=>=>=>\t\n",
      "Status : AVAILABLE\n",
      "-----Status Available------\n",
      "78893\n",
      "0/4\n",
      "resultId: 230835\n",
      "DONE...\n",
      "Wait until query is done processing\n",
      "=>=>=>=>=>=>=>=>=>=>=>=>=>=>=>=>=>=>=>=>=>=>=>=>=>=>=>=>=>=>=>=>=>=>=>=>=>=>=>=>=>=>=>=>=>=>=>=>=>=>=>=>=>=>=>=>=>=>=>=>=>=>=>=>=>=>=>=>=>=>=>=>=>=>=>=>=>=>=>=>=>=>=>=>=>=>=>=>=>=>=>=>=>=>=>=>=>=>=>=>=>=>=>=>=>=>=>=>=>=>=>=>=>=>=>=>=>=>=>=>=>=>=>=>=>=>=>=>=>=>=>=>=>=>=>=>=>=>=>=>=>=>=>=>=>=>=>=>=>=>=>=>=>=>=>=>=>=>=>=>=>=>=>=>=>=>=>=>=>=>=>=>=>=>=>=>=>=>=>=>=>=>=>=>=>=>=>=>=>=>=>=>=>=>=>=>=>=>=>=>=>=>=>=>=>=>=>=>=>\t\n",
      "Status : AVAILABLE\n",
      "-----Status Available------\n",
      "2099\n",
      "0/5\n",
      "resultId: 230837\n",
      "DONE...\n",
      "Wait until query is done processing\n",
      "=>=>=>=>=>=>=>=>=>=>=>=>=>=>=>=>=>=>=>=>=>=>=>=>=>=>=>=>=>=>=>=>=>=>=>=>=>=>=>=>=>=>=>=>=>=>=>=>=>=>=>=>=>=>=>=>=>=>=>=>=>=>=>=>=>=>=>=>=>=>=>=>=>=>=>=>=>=>=>=>=>=>=>=>=>=>=>=>=>=>=>=>=>=>=>=>=>=>=>=>=>=>=>=>=>=>=>=>=>=>=>=>=>=>=>=>=>=>=>=>=>=>=>=>=>=>=>=>=>=>=>=>=>=>=>=>=>=>=>=>=>=>=>=>=>=>=>=>=>=>=>=>=>=>=>=>=>=>=>=>=>=>=>=>=>=>=>=>=>=>=>=>=>=>=>=>=>=>=>=>=>=>=>=>=>=>=>=>=>=>=>=>=>=>=>=>=>=>=>\t\n",
      "Status : AVAILABLE\n",
      "-----Status Available------\n",
      "29\n",
      "1/1\n",
      "resultId: 230839\n",
      "DONE...\n",
      "Wait until query is done processing\n",
      "=>=>=>=>=>=>=>=>=>=>=>=>=>=>=>=>=>=>=>=>=>=>=>=>=>=>=>=>=>=>=>=>=>=>=>=>=>=>=>=>=>=>=>=>=>=>=>=>=>=>=>=>=>=>=>=>=>=>=>=>=>=>=>=>=>=>=>=>=>=>=>=>=>=>=>=>=>=>=>=>=>=>=>=>=>=>=>=>=>=>=>=>=>=>=>=>=>=>=>=>=>=>=>=>=>=>=>=>=>=>=>=>=>=>=>=>=>=>=>=>=>=>=>=>=>=>=>=>=>=>=>=>=>=>=>=>=>=>=>=>=>=>=>=>=>=>=>=>=>=>=>=>=>=>=>=>=>=>=>=>=>=>=>=>=>=>=>=>=>=>=>=>=>=>=>=>=>=>=>=>=>=>=>=>=>=>=>=>=>=>=>=>=>=>=>=>=>=>=>=>=>=>=>=>=>=>=>=>=>=>=>=>=>=>=>=>=>=>=>=>=>=>=>=>=>=>=>=>=>=>=>=>=>=>=>=>=>=>=>=>=>=>=>=>=>=>=>=>=>=>=>=>=>=>=>\t\n",
      "Status : AVAILABLE\n",
      "-----Status Available------\n",
      "108874994\n",
      "1/2\n",
      "resultId: 230841\n",
      "DONE...\n",
      "Wait until query is done processing\n",
      "=>=>=>=>=>=>=>=>=>=>=>=>=>=>=>=>=>=>=>=>=>=>=>=>=>=>=>=>=>=>=>=>=>=>=>=>=>=>=>=>=>=>=>=>=>=>=>=>=>=>=>=>=>=>=>=>=>=>=>=>=>=>=>=>=>=>=>=>=>=>=>=>=>=>=>=>=>=>=>=>=>=>=>=>=>=>=>=>=>=>=>=>=>=>=>=>=>=>=>=>=>=>=>=>=>=>=>=>=>=>=>=>=>=>=>=>=>=>=>=>=>=>=>=>=>=>=>=>=>=>=>=>=>=>=>=>=>=>=>=>=>=>=>=>=>=>=>=>=>=>=>=>=>=>=>=>=>=>=>=>=>=>=>=>=>=>=>=>\t\n",
      "Status : AVAILABLE\n",
      "-----Status Available------\n",
      "944210\n",
      "1/3\n",
      "resultId: 230843\n",
      "DONE...\n",
      "Wait until query is done processing\n",
      "=>=>=>=>=>=>=>=>=>=>=>=>=>=>=>=>=>=>=>=>=>=>=>=>=>=>=>=>=>=>=>=>=>=>=>=>=>=>=>=>=>=>=>=>=>=>=>=>=>=>=>=>=>=>=>=>\t\n",
      "Status : AVAILABLE\n",
      "-----Status Available------\n",
      "100500\n",
      "1/4\n",
      "resultId: 230845\n",
      "DONE...\n",
      "Wait until query is done processing\n",
      "=>=>=>=>=>=>=>=>=>=>=>=>=>=>=>=>=>=>=>=>=>=>=>=>=>=>=>=>=>=>=>=>=>=>=>=>=>=>=>=>=>=>=>=>=>=>=>=>=>=>=>=>=>=>=>=>=>=>=>=>=>=>=>=>=>=>=>=>=>=>=>=>=>=>=>=>=>=>=>=>=>=>=>=>=>=>=>=>=>=>=>=>=>=>=>=>=>=>=>=>=>=>=>=>=>=>=>=>=>=>=>=>=>=>=>=>=>=>=>=>=>=>=>=>=>=>=>=>=>=>=>=>=>=>=>=>=>=>=>=>=>=>=>=>=>=>=>=>=>=>=>=>\t\n",
      "Status : AVAILABLE\n",
      "-----Status Available------\n",
      "4078\n",
      "1/5\n",
      "resultId: 230847\n",
      "DONE...\n",
      "Wait until query is done processing\n",
      "=>=>=>=>=>=>=>=>=>=>=>=>=>=>=>=>=>=>=>=>=>=>=>=>=>=>=>=>=>=>=>=>=>=>=>=>=>=>=>=>=>=>=>=>=>=>=>=>=>=>=>=>=>=>=>=>=>=>=>=>=>=>=>=>=>=>=>=>=>=>=>=>=>=>=>=>=>=>=>=>=>=>=>=>=>=>=>=>=>=>=>=>=>=>=>=>=>=>=>=>=>=>=>=>=>=>=>=>=>=>=>=>=>=>=>=>=>=>=>=>=>=>=>=>=>=>=>=>=>=>=>=>=>=>=>=>=>=>=>=>=>=>=>=>=>=>=>=>=>=>=>=>=>=>=>=>=>=>=>=>=>=>=>=>=>=>=>=>=>\t\n",
      "Status : AVAILABLE\n",
      "-----Status Available------\n",
      "72\n",
      "2/1\n",
      "resultId: 230849\n",
      "DONE...\n",
      "Wait until query is done processing\n",
      "=>=>=>=>=>=>=>=>=>=>=>=>=>=>=>=>=>=>=>=>=>=>=>=>=>=>=>=>=>=>=>=>=>=>=>=>=>=>=>=>=>=>=>=>=>=>=>=>=>=>=>=>=>=>=>=>=>=>=>=>=>=>=>=>=>=>=>=>=>=>=>=>=>=>=>=>=>=>=>=>=>=>=>=>=>=>=>=>=>=>=>=>=>=>=>=>=>=>=>=>=>=>=>=>=>=>=>=>=>=>=>=>=>=>=>=>=>=>=>=>=>=>=>=>=>=>=>=>=>=>=>=>=>=>=>=>=>=>=>=>=>=>=>=>=>=>=>=>=>=>=>=>=>=>=>=>=>=>=>=>=>=>=>=>=>=>=>=>=>=>=>=>=>=>=>=>=>=>=>=>=>=>=>=>=>=>=>=>=>=>=>=>=>=>=>=>=>=>=>=>=>=>=>=>=>=>=>=>=>=>=>=>=>=>=>=>=>=>=>=>=>=>=>=>=>=>=>=>\t\n",
      "Status : AVAILABLE\n",
      "-----Status Available------\n",
      "673486\n",
      "2/2\n",
      "resultId: 230851\n",
      "DONE...\n",
      "Wait until query is done processing\n",
      "=>=>=>=>=>=>=>=>=>=>=>=>=>=>=>=>=>=>=>=>=>=>=>=>=>=>=>=>=>=>=>=>=>=>=>=>=>=>=>=>=>=>=>=>=>=>=>=>=>=>=>=>=>=>=>=>=>=>=>=>=>=>=>=>=>=>=>=>=>=>=>=>=>=>=>=>=>=>=>=>=>=>=>=>=>=>=>=>=>=>=>=>=>=>=>=>=>=>=>=>=>=>=>=>=>=>=>=>=>=>=>=>=>=>=>=>\t\n",
      "Status : AVAILABLE\n",
      "-----Status Available------\n",
      "284921\n",
      "2/3\n",
      "resultId: 230853\n",
      "DONE...\n",
      "Wait until query is done processing\n",
      "=>=>=>=>=>=>=>=>=>=>=>=>=>=>=>=>=>=>=>=>=>=>=>=>=>=>=>=>=>=>=>=>=>=>=>=>=>=>=>=>=>=>=>=>=>=>=>=>=>=>=>=>=>=>=>=>=>=>=>=>=>=>=>=>=>=>=>=>=>=>=>=>=>=>=>=>=>=>=>=>=>=>=>=>=>=>=>=>=>=>=>=>=>=>=>=>=>=>=>=>=>=>=>=>=>=>=>=>=>=>=>=>=>=>=>=>=>=>=>=>=>=>=>=>=>=>=>=>=>=>=>=>=>=>=>=>=>=>=>=>=>=>=>=>=>=>=>=>=>=>=>=>=>=>=>=>=>=>=>=>=>=>=>=>=>=>=>=>=>=>=>=>=>=>=>=>=>=>=>=>=>=>=>=>=>=>=>=>=>=>=>=>=>=>=>=>=>=>=>=>=>=>=>=>=>=>=>=>=>=>=>\t\n",
      "Status : AVAILABLE\n",
      "-----Status Available------\n",
      "88188\n",
      "2/4\n",
      "resultId: 230855\n",
      "DONE...\n",
      "Wait until query is done processing\n",
      "=>=>=>=>=>=>=>=>=>=>=>=>=>=>=>=>=>=>=>=>=>=>=>=>=>=>=>=>=>=>=>=>=>=>=>=>=>=>=>=>=>=>=>=>=>=>=>=>=>=>=>=>=>=>=>=>=>=>=>=>=>=>=>=>=>=>=>=>=>=>=>=>=>=>=>=>=>=>=>=>=>=>=>=>=>=>=>=>=>=>=>=>=>=>=>=>=>=>=>=>=>=>=>=>=>=>=>=>=>=>=>=>=>=>=>=>=>=>=>=>=>=>=>=>=>=>=>=>=>=>=>=>=>=>=>=>=>=>=>=>=>=>=>=>=>=>=>=>=>=>=>=>=>=>=>=>=>=>=>=>=>=>=>=>=>=>=>=>=>=>=>=>=>=>=>=>=>=>=>=>=>=>=>=>=>=>=>=>=>=>=>=>=>=>=>=>=>=>=>=>=>=>=>=>=>=>=>=>=>=>=>=>=>\t\n",
      "Status : AVAILABLE\n",
      "-----Status Available------\n",
      "4778\n",
      "2/5\n",
      "resultId: 230857\n",
      "DONE...\n",
      "Wait until query is done processing\n",
      "=>=>=>=>=>=>=>=>=>=>=>=>=>=>=>=>=>=>=>=>=>=>=>=>=>=>=>=>=>=>=>=>=>=>=>=>=>=>=>=>=>=>=>=>=>=>=>=>=>=>=>=>=>=>=>=>=>=>=>=>=>=>=>=>=>=>=>=>=>=>=>=>=>=>=>=>=>=>=>=>=>=>=>=>=>=>=>=>=>=>=>=>=>=>=>=>=>=>=>=>=>=>=>=>=>=>=>=>=>=>=>=>=>=>=>=>=>=>=>=>=>=>=>=>=>=>=>=>=>=>=>\t\n",
      "Status : AVAILABLE\n",
      "-----Status Available------\n",
      "88\n",
      "3/1\n",
      "resultId: 230859\n",
      "DONE...\n",
      "Wait until query is done processing\n",
      "=>=>=>=>=>=>=>=>=>=>=>=>=>=>=>=>=>=>=>=>=>=>=>=>=>=>=>=>=>=>=>=>=>=>=>=>=>=>=>=>=>=>=>=>=>=>=>=>=>=>=>=>=>=>=>=>=>=>=>=>=>=>=>=>=>=>=>=>=>=>=>=>=>=>=>=>=>=>=>=>=>=>=>=>=>=>=>=>=>=>=>=>=>=>=>=>=>=>=>=>=>=>=>=>=>=>=>=>=>=>=>=>=>=>=>=>=>=>=>=>=>=>\t\n",
      "Status : AVAILABLE\n",
      "-----Status Available------\n",
      "44802\n",
      "3/2\n",
      "resultId: 230861\n",
      "DONE...\n",
      "Wait until query is done processing\n",
      "=>=>=>=>=>=>=>=>=>=>=>=>=>=>=>=>=>=>=>=>=>=>=>=>=>=>=>=>=>=>=>=>=>=>=>=>=>=>=>=>=>=>=>=>=>=>=>=>=>=>=>=>=>=>=>=>=>=>=>=>=>=>=>=>=>=>=>=>=>=>=>=>=>=>=>=>=>=>=>=>=>=>=>=>=>=>=>=>=>=>=>=>=>=>=>=>=>=>=>=>=>=>=>=>=>=>=>=>=>=>=>=>=>=>=>=>=>=>=>=>=>=>=>=>=>=>=>=>=>=>=>=>=>=>=>=>=>=>=>=>=>=>=>=>=>=>=>=>=>=>=>=>=>=>=>=>=>=>=>=>=>=>=>=>=>=>=>=>=>=>=>=>=>=>=>=>=>=>=>=>=>=>=>=>=>=>=>=>=>=>=>=>=>=>=>=>=>=>=>=>\t\n",
      "Status : AVAILABLE\n",
      "-----Status Available------\n",
      "72014\n",
      "3/3\n",
      "resultId: 230863\n",
      "DONE...\n",
      "Wait until query is done processing\n",
      "=>=>=>=>=>=>=>=>=>=>=>=>=>=>=>=>=>=>=>=>=>=>=>=>=>=>=>=>=>=>=>=>=>=>=>=>=>=>=>=>=>=>=>=>=>=>=>=>=>=>=>=>=>=>=>=>=>=>=>=>=>=>=>=>=>=>=>=>=>=>=>=>=>=>=>=>=>=>=>=>=>=>=>=>=>=>=>=>=>=>=>\t\n",
      "Status : AVAILABLE\n",
      "-----Status Available------\n",
      "13534\n",
      "3/4\n",
      "resultId: 230865\n",
      "DONE...\n",
      "Wait until query is done processing\n",
      "=>=>=>=>=>=>=>=>=>=>=>=>=>=>=>=>=>=>=>=>=>=>=>=>=>=>=>=>=>=>=>=>=>=>=>=>=>=>=>=>=>=>=>=>=>=>=>=>=>=>=>=>=>=>=>=>=>=>=>=>=>=>=>=>=>=>=>=>=>=>=>=>=>=>=>=>=>=>=>=>=>=>=>=>=>=>=>=>=>=>=>=>=>=>=>=>=>=>=>=>=>=>=>=>=>=>=>=>=>=>=>=>=>=>=>=>=>=>=>=>=>=>=>=>=>=>=>=>=>=>=>=>=>=>=>=>=>=>=>=>=>=>=>=>=>=>=>=>=>=>=>=>=>=>=>=>=>=>=>=>=>=>=>=>=>=>=>=>=>=>=>=>=>=>=>=>=>=>=>=>=>=>=>=>=>=>\t\n",
      "Status : AVAILABLE\n",
      "-----Status Available------\n",
      "3082\n",
      "4/1\n",
      "resultId: 230867\n",
      "DONE...\n",
      "Wait until query is done processing\n",
      "=>=>=>=>=>=>=>=>=>=>=>=>=>=>=>=>=>=>=>=>=>=>=>=>=>=>=>=>=>=>=>=>=>=>=>=>=>=>=>=>=>=>=>=>=>=>=>=>=>=>=>=>=>=>=>=>=>=>=>=>=>=>=>=>=>=>=>=>=>=>=>=>=>=>=>=>=>=>=>=>=>=>=>=>=>=>=>=>=>=>=>=>=>=>=>=>=>=>=>=>=>=>=>=>=>=>=>=>=>=>=>=>=>=>=>=>=>=>=>=>=>=>=>=>=>=>=>=>=>=>=>=>=>=>=>=>=>=>=>=>=>=>=>=>=>=>=>=>=>=>=>=>=>=>=>=>=>=>=>=>=>=>=>=>=>=>=>=>=>=>=>=>=>=>=>=>=>=>=>=>=>=>=>=>=>=>=>=>=>=>=>=>=>=>=>=>=>=>=>=>=>=>\t\n",
      "Status : AVAILABLE\n",
      "-----Status Available------\n",
      "2442\n",
      "4/2\n",
      "resultId: 230869\n",
      "DONE...\n",
      "Wait until query is done processing\n",
      "=>=>=>=>=>=>=>=>=>=>=>=>=>=>=>=>=>=>=>=>=>=>=>=>=>=>=>=>=>=>=>=>=>=>=>=>=>=>=>=>=>=>=>=>=>=>=>=>=>=>=>=>=>=>=>=>=>=>=>=>=>=>=>=>=>=>=>=>=>=>=>=>=>=>=>=>=>=>=>=>=>=>=>=>=>=>=>=>=>=>=>=>=>=>=>=>=>=>=>=>=>=>=>=>=>=>=>=>=>=>=>=>=>=>=>=>=>=>=>=>=>=>=>=>=>=>=>=>=>=>=>=>=>=>=>=>=>=>=>=>=>=>=>=>=>=>=>=>=>=>=>=>=>=>=>=>=>=>=>=>=>=>=>=>=>=>=>=>=>=>=>=>=>=>=>=>=>=>=>=>=>=>=>=>=>=>=>=>=>=>=>=>=>=>=>=>=>=>=>=>=>=>=>=>=>=>=>=>=>\t\n",
      "Status : AVAILABLE\n",
      "-----Status Available------\n",
      "2908\n",
      "4/3\n",
      "resultId: 230871\n",
      "DONE...\n",
      "Wait until query is done processing\n",
      "=>=>=>=>=>=>=>=>=>=>=>=>=>=>=>=>=>=>=>=>=>=>=>=>=>=>=>=>=>=>=>=>=>=>=>=>=>=>=>=>=>=>=>=>=>=>=>=>=>=>=>=>=>=>=>=>=>=>=>=>=>=>=>=>=>=>=>=>=>=>=>=>=>=>=>=>=>=>=>=>=>=>=>=>=>=>=>=>=>=>=>=>=>=>=>=>=>=>=>=>=>=>=>=>=>=>=>=>=>=>=>=>=>=>=>=>=>=>=>=>=>=>=>=>=>=>=>=>=>=>=>=>=>=>=>=>=>=>=>=>=>=>=>=>=>=>=>=>=>=>=>=>=>=>=>=>=>\t\n",
      "Status : AVAILABLE\n",
      "-----Status Available------\n",
      "3676\n",
      "4/4\n",
      "resultId: 230873\n",
      "DONE...\n",
      "Wait until query is done processing\n",
      "=>=>=>=>=>=>=>=>=>=>=>=>=>=>=>=>=>=>=>=>=>=>=>=>=>=>=>=>=>=>=>=>=>=>=>=>=>=>=>=>=>=>=>=>=>=>=>=>=>=>=>=>=>=>=>=>=>=>=>=>=>=>=>=>=>=>=>=>=>=>=>=>=>=>=>=>=>=>=>=>=>=>=>=>=>=>=>=>=>=>=>=>=>=>=>=>=>=>=>=>=>=>=>=>=>=>=>=>=>=>=>=>=>=>=>=>=>=>=>=>=>=>=>=>=>=>=>=>=>=>=>=>=>=>=>=>=>=>=>=>=>=>=>=>=>=>=>=>=>=>=>=>=>=>=>=>=>=>=>=>=>=>=>=>=>=>=>=>=>=>=>=>=>=>=>=>=>=>=>=>=>=>=>=>=>=>=>=>=>=>=>=>=>\t\n",
      "Status : AVAILABLE\n",
      "-----Status Available------\n",
      "279\n",
      "4/6\n",
      "resultId: 230875\n",
      "DONE...\n",
      "Wait until query is done processing\n",
      "=>=>=>=>=>=>=>=>=>=>=>=>=>=>=>=>=>=>=>=>=>=>=>=>=>=>=>=>=>=>=>=>=>=>=>=>=>=>=>=>=>=>=>=>=>=>=>=>=>=>=>=>=>=>=>=>=>=>=>=>=>=>=>=>=>=>=>=>=>=>=>=>=>=>=>=>=>=>=>=>=>=>=>=>=>=>=>=>=>=>=>=>=>=>=>=>=>=>=>=>=>=>=>=>=>=>=>=>=>=>=>=>=>=>=>=>=>=>=>=>=>=>=>=>=>=>=>=>=>=>=>=>=>=>=>=>=>=>=>=>=>=>=>=>=>=>=>=>=>=>=>=>=>=>=>=>=>=>=>=>=>=>=>=>=>=>=>=>=>=>=>=>=>=>=>=>=>=>=>=>=>=>=>=>=>=>=>=>=>=>=>=>=>=>=>=>=>=>=>=>=>=>=>=>=>=>=>=>=>=>=>=>=>=>=>=>=>=>\t\n",
      "Status : AVAILABLE\n",
      "-----Status Available------\n",
      "12\n",
      "5/1\n",
      "resultId: 230877\n",
      "DONE...\n",
      "Wait until query is done processing\n",
      "=>=>=>=>=>=>=>=>=>=>=>=>=>=>=>=>=>=>=>=>=>=>=>=>=>=>=>=>=>=>=>=>=>=>=>=>=>=>=>=>=>=>=>=>=>=>=>=>=>=>=>=>=>=>=>=>=>=>=>=>=>=>=>=>=>=>=>=>=>=>=>=>=>=>=>=>=>=>=>=>=>=>=>=>=>=>=>=>=>=>=>=>=>=>=>=>=>\t\n",
      "Status : AVAILABLE\n",
      "-----Status Available------\n",
      "88\n",
      "5/3\n",
      "resultId: 230879\n",
      "DONE...\n",
      "Wait until query is done processing\n",
      "=>=>=>=>=>=>=>=>=>=>=>=>=>=>=>=>=>=>=>=>=>=>=>=>=>=>=>=>=>=>=>=>=>=>=>=>=>=>=>=>=>=>=>=>=>=>=>=>=>=>=>=>=>=>=>=>=>=>=>=>=>=>=>=>=>=>=>=>=>=>=>=>=>=>=>=>=>=>=>=>=>=>=>=>=>=>=>=>=>=>=>=>=>=>=>=>=>=>=>=>=>=>=>=>=>=>=>=>=>=>=>=>=>=>=>=>=>=>=>=>=>=>=>=>=>=>=>=>=>=>=>=>=>=>=>=>=>=>=>=>=>=>=>=>=>=>=>=>=>=>=>=>=>=>=>=>=>=>=>=>=>=>=>=>=>=>=>=>=>=>=>=>=>=>=>=>=>=>=>=>=>=>=>=>=>\t\n",
      "Status : AVAILABLE\n",
      "-----Status Available------\n",
      "86\n",
      "5/4\n",
      "resultId: 230881\n",
      "DONE...\n",
      "Wait until query is done processing\n",
      "=>=>=>=>=>=>=>=>=>=>=>=>=>=>=>=>=>=>=>=>=>=>=>=>=>=>=>=>=>=>=>=>=>=>=>=>=>=>=>=>=>=>=>=>=>=>=>=>=>=>=>=>=>=>=>=>=>=>=>=>=>=>=>=>=>=>=>=>=>=>=>=>=>=>=>=>=>=>=>=>=>=>=>=>=>=>=>=>=>=>=>=>=>=>=>=>=>=>=>=>=>=>=>=>=>=>=>=>=>=>=>=>=>=>=>=>=>=>=>=>=>=>=>=>=>=>=>=>=>=>=>=>=>=>=>=>=>=>=>=>=>=>=>=>=>=>=>=>=>=>=>=>=>=>=>=>=>=>=>=>=>=>=>=>=>=>=>=>=>=>=>=>=>=>=>=>=>=>=>=>=>=>=>=>=>=>=>=>=>=>=>=>=>=>=>=>=>=>=>=>=>=>=>=>=>=>=>=>=>=>=>=>=>=>=>=>=>=>=>\t\n",
      "Status : AVAILABLE\n",
      "-----Status Available------\n",
      "72\n",
      "6/2\n",
      "resultId: 230883\n",
      "DONE...\n",
      "Wait until query is done processing\n",
      "=>=>=>=>=>=>=>=>=>=>=>=>=>=>=>=>=>=>=>=>=>=>=>=>=>=>=>=>=>=>=>=>=>=>=>=>=>=>=>=>=>=>=>=>=>=>=>=>=>=>=>=>=>=>=>=>=>=>=>=>=>=>=>=>=>=>=>=>=>=>=>=>=>=>=>=>=>=>=>=>=>=>=>=>=>=>=>=>=>=>=>=>=>=>=>=>=>=>=>=>=>=>=>=>=>=>=>=>=>=>=>=>=>=>=>=>=>=>=>=>=>=>=>=>=>=>=>=>=>=>=>=>=>=>=>=>=>=>=>=>=>=>=>=>=>=>=>=>=>=>=>=>=>=>=>=>=>=>=>=>=>=>=>=>=>=>=>=>=>=>=>=>=>=>=>=>=>=>=>=>=>=>=>=>=>=>=>=>=>\t\n",
      "Status : AVAILABLE\n",
      "-----Status Available------\n",
      "6\n",
      "['180686602', '1431979', '78893', '2099', '29', '108874994', '944210', '100500', '4078', '72', '673486', '284921', '88188', '4778', '88', '44802', '72014', '13534', '3082', '2442', '2908', '3676', '279', '12', '88', '86', '72', '6']\n"
     ]
    }
   ],
   "source": [
    "# Apply filters a to d: value equals to VCF_GT\n",
    "p1_gt = [\"0/1\",\"0/2\",\"0/3\",\"0/4\",\"0/5\",\"1/1\",\"1/2\",\"1/3\",\"1/4\",\"1/5\",\"2/1\",\"2/2\",\"2/3\",\"2/4\",\"2/5\", \n",
    "         \"3/1\",\"3/2\",\"3/3\",\"3/4\",\"4/1\",\"4/2\",\"4/3\",\"4/4\",\"4/6\",\"5/1\",\"5/3\",\"5/4\",\"6/2\"]\n",
    "result = []\n",
    "for gt in p1_gt:\n",
    "    print(gt)\n",
    "    request = \"\"\"{\n",
    "    \"select\": [\n",
    "      {\n",
    "        \"field\": {\n",
    "          \"pui\": \"/SciDB/DataI\"\n",
    "        },\n",
    "        \"alias\": \"NUMBER_OF_FAMILY_MEMBERS\",\n",
    "        \"operation\": \"AGGREGATE\",\n",
    "        \"fields\" : {\n",
    "           \"FUNCTION\" : \"count\"\n",
    "        }\n",
    "      }\n",
    "      ],\n",
    "    \"where\": [\n",
    "      {\n",
    "        \"field\": {\n",
    "          \"pui\": \"/SciDB/DataI/VCF_GT\",\n",
    "          \"dataType\": \"ATTRIBUTE\"\n",
    "        },\n",
    "        \"predicate\": \"FILTER\",\n",
    "        \"fields\": {\n",
    "          \"OPERATOR\" : \"EQ\",\n",
    "          \"VALUE\" : \"%s\"\n",
    "        }\n",
    "      }\n",
    "      ]\n",
    "    }\"\"\" %gt\n",
    "    resultId = str(session.post(\"https://ssc.hms.harvard.edu/rest/v1/queryService/runQuery\", data=request).json().get('resultId'))\n",
    "    print('resultId: ' + resultId)\n",
    "    print(\"DONE...\")\n",
    "\n",
    "    status = session.get(\"https://ssc.hms.harvard.edu/rest/v1/resultService/resultStatus/\"+resultId).json()\n",
    "    status\n",
    "    not_done = True\n",
    "    if not_done == True:\n",
    "        print(\"Wait until query is done processing\")\n",
    "    while not_done :\n",
    "        status = session.get(\"https://ssc.hms.harvard.edu/rest/v1/resultService/resultStatus/\"+resultId).json().get(\"status\")\n",
    "        print(\"=>\",end='')\n",
    "        not_done = True if (status == 'RUNNING') else False\n",
    "    print('\\t')\n",
    "    print(\"Status : \" + status)\n",
    "    \n",
    "    if status == 'AVAILABLE':\n",
    "        query_results = session.get(\"https://ssc.hms.harvard.edu/rest/v1/resultService/result/\"+resultId+\"/CSV\").text\n",
    "        print('-----Status Available------')\n",
    "        print(query_results.split('\\n')[1].split(',')[1].strip())\n",
    "        result.append(query_results.split('\\n')[1].split(',')[1].strip())\n",
    "    else:\n",
    "        print('-----ERROR!------\\n status is not available') \n",
    "print(result)"
   ]
  },
  {
   "cell_type": "markdown",
   "metadata": {},
   "source": [
    "### Plot the query results for visualization\n",
    "This function aims to plot the query results. The inputs of this function is the returned query results from the above query function. The first plot aims to show the number of VCF_GT values which are greater than 1,0000 and less than 1,0000 respectively. The second plot aims to show all of the number of queried VCF_GT values."
   ]
  },
  {
   "cell_type": "code",
   "execution_count": 289,
   "metadata": {
    "collapsed": false
   },
   "outputs": [
    {
     "name": "stdout",
     "output_type": "stream",
     "text": [
      "['180686602', '1431979', '78893', '2099', '29', '108874994', '944210', '100500', '4078', '72', '673486', '284921', '88188', '4778', '88', '44802', '72014', '13534', '3082', '2442', '2908', '3676', '279', '12', '88', '86', '72', '6']\n"
     ]
    },
    {
     "data": {
      "image/png": "[encoded data removed]",
      "text/plain": [
       "<matplotlib.figure.Figure at 0x7f27c521ccf8>"
      ]
     },
     "metadata": {},
     "output_type": "display_data"
    },
    {
     "name": "stdout",
     "output_type": "stream",
     "text": [
      "\n",
      "\n"
     ]
    },
    {
     "data": {
      "image/png": "[encoded data removed]",
      "text/plain": [
       "<matplotlib.figure.Figure at 0x7f27c53fb080>"
      ]
     },
     "metadata": {},
     "output_type": "display_data"
    },
    {
     "data": {
      "image/png": "[encoded data removed]",
      "text/plain": [
       "<matplotlib.figure.Figure at 0x7f27c5363e48>"
      ]
     },
     "metadata": {},
     "output_type": "display_data"
    },
    {
     "name": "stdout",
     "output_type": "stream",
     "text": [
      "\n",
      "\n"
     ]
    },
    {
     "data": {
      "image/png": "[encoded data removed]",
      "text/plain": [
       "<matplotlib.figure.Figure at 0x7f27c5124898>"
      ]
     },
     "metadata": {},
     "output_type": "display_data"
    }
   ],
   "source": [
    "print(result)\n",
    "new_result = []\n",
    "new_p1_gt = []\n",
    "for l in range(len(result)):\n",
    "    if len(str(result[l])) < 9 and len(str(result[l])) > 4:\n",
    "        new_result.append(result[l])\n",
    "        new_p1_gt.append(p1_gt[l])\n",
    "\n",
    "colors = []\n",
    "explode = []\n",
    "for j in range(len(new_result)):\n",
    "    r = lambda: random.randint(0,255)\n",
    "    colors.append('#%02X%02X%02X' % (r(),r(),r()))\n",
    "    explode.append(0)\n",
    "n_groups = len(new_result) \n",
    "fig, ax = plt.subplots()  \n",
    "index = np.arange(n_groups)  \n",
    "bar_width = 0.85  \n",
    "opacity = 1\n",
    "rects1 = plt.bar(index, new_result, bar_width,alpha=opacity, color=colors,label='Men')  \n",
    "plt.xlabel('VCF_GT')    \n",
    "plt.ylabel('Number')    \n",
    "plt.title('Number of VCF_GT (range GT 1,0000)') \n",
    "plt.show()\n",
    "print('\\n')\n",
    "plt.pie(new_result, explode=explode, labels=new_p1_gt, colors=colors,\n",
    "        autopct='%1.1f%%', shadow=True, startangle=90)\n",
    "plt.show()\n",
    "\n",
    "new_result1 = []\n",
    "new_p1_gt1 = []\n",
    "for l in range(len(result)):\n",
    "    if len(str(result[l])) < 5:\n",
    "        new_result1.append(result[l])\n",
    "        new_p1_gt1.append(p1_gt[l])\n",
    "\n",
    "colors = []\n",
    "explode = []\n",
    "for j in range(len(new_result1)):\n",
    "    r = lambda: random.randint(0,255)\n",
    "    colors.append('#%02X%02X%02X' % (r(),r(),r()))\n",
    "    explode.append(0)\n",
    "n_groups = len(new_result1) \n",
    "fig, ax = plt.subplots()  \n",
    "index = np.arange(n_groups)  \n",
    "bar_width = 0.85  \n",
    "opacity = 1\n",
    "rects1 = plt.bar(index, new_result1, bar_width,alpha=opacity, color=colors,label='Men')  \n",
    "plt.xlabel('VCF_GT')    \n",
    "plt.ylabel('Number')    \n",
    "plt.title('Number of VCF_GT (range LT 1,0000)') \n",
    "plt.show()\n",
    "print('\\n')\n",
    "plt.pie(new_result1, explode=explode, labels=new_p1_gt1, colors=colors,\n",
    "        autopct='%1.1f%%', shadow=True, startangle=90)\n",
    "plt.show()\n"
   ]
  },
  {
   "cell_type": "code",
   "execution_count": 271,
   "metadata": {
    "collapsed": false
   },
   "outputs": [
    {
     "name": "stdout",
     "output_type": "stream",
     "text": [
      "['180686602', '1431979', '78893', '2099', '29', '108874994', '944210', '100500', '4078', '72', '673486', '284921', '88188', '4778', '88', '44802', '72014', '13534', '3082', '2442', '2908', '3676', '279', '12', '88', '86', '72', '6']\n"
     ]
    },
    {
     "data": {
      "image/png": "[encoded data removed]",
      "text/plain": [
       "<matplotlib.figure.Figure at 0x7f27c4f94f98>"
      ]
     },
     "metadata": {},
     "output_type": "display_data"
    },
    {
     "name": "stdout",
     "output_type": "stream",
     "text": [
      "\n",
      "\n"
     ]
    },
    {
     "data": {
      "image/png": "[encoded data removed]",
      "text/plain": [
       "<matplotlib.figure.Figure at 0x7f27c5079978>"
      ]
     },
     "metadata": {},
     "output_type": "display_data"
    }
   ],
   "source": [
    "print(result)\n",
    "\n",
    "colors = []\n",
    "explode = []\n",
    "for j in range(len(result)):\n",
    "    r = lambda: random.randint(0,255)\n",
    "    colors.append('#%02X%02X%02X' % (r(),r(),r()))\n",
    "    explode.append(0)\n",
    "n_groups = len(result) \n",
    "fig, ax = plt.subplots()  \n",
    "index = np.arange(n_groups)  \n",
    "bar_width = 0.85  \n",
    "opacity = 1\n",
    "rects1 = plt.bar(index, result, bar_width,alpha=opacity, color=colors,label='Men')  \n",
    "plt.xlabel('VCF_GT')    \n",
    "plt.ylabel('Number')    \n",
    "plt.title('Number of VCF_GT') \n",
    "plt.show()\n",
    "print('\\n')\n",
    "plt.pie(result, explode=explode, labels=p1_gt, colors=colors,\n",
    "        autopct='%1.1f%%', shadow=True, startangle=90)\n",
    "plt.show()\n"
   ]
  },
  {
   "cell_type": "markdown",
   "metadata": {},
   "source": [
    "### Running the Queries (2) \n",
    "This is to query how many individuals are there in Family_ID = 11002. The queried family id is user defined. The inputs of this query code are family id and the outputs are the number of family members. "
   ]
  },
  {
   "cell_type": "code",
   "execution_count": 263,
   "metadata": {
    "collapsed": false
   },
   "outputs": [
    {
     "name": "stdout",
     "output_type": "stream",
     "text": [
      "resultId: 230889\n",
      "DONE...\n",
      "Wait until query is done processing\n",
      "=>=>=>\t\n",
      "Status : AVAILABLE\n",
      "-----Status Available------\n",
      "i,NUMBER_OF_FAMILY_MEMBERS\n",
      "0,4\n",
      "\n"
     ]
    }
   ],
   "source": [
    "### How many individuals are there in Family_ID = 11002\n",
    "request = \"\"\"{\n",
    "\"select\": [\n",
    "      {\n",
    "        \"field\": {\n",
    "          \"pui\": \"/SciDB/MetaData\"\n",
    "        },\n",
    "        \"alias\": \"NUMBER_OF_FAMILY_MEMBERS\",\n",
    "        \"operation\": \"AGGREGATE\",\n",
    "        \"fields\" : {\n",
    "           \"FUNCTION\" : \"count\"\n",
    "        }\n",
    "      }\n",
    "  ],\n",
    "  \"where\": [\n",
    "      {\n",
    "        \"field\": {\n",
    "          \"pui\": \"/SciDB/MetaData/Family_ID\",\n",
    "          \"dataType\": \"ATTRIBUTE\"\n",
    "        },\n",
    "        \"predicate\": \"FILTER\",\n",
    "        \"fields\": {\n",
    "          \"OPERATOR\" : \"EQ\",\n",
    "          \"VALUE\" : \"11002\"\n",
    "        }\n",
    "      }\n",
    "  ]\n",
    "}\"\"\"\n",
    "resultId = str(session.post(\"https://ssc.hms.harvard.edu/rest/v1/queryService/runQuery\", data=request).json().get('resultId'))\n",
    "print('resultId: ' + resultId)\n",
    "print(\"DONE...\")\n",
    "\n",
    "status = session.get(\"https://ssc.hms.harvard.edu/rest/v1/resultService/resultStatus/\"+resultId).json()\n",
    "status\n",
    "not_done = True\n",
    "if not_done == True:\n",
    "    print(\"Wait until query is done processing\")\n",
    "while not_done :\n",
    "    status = session.get(\"https://ssc.hms.harvard.edu/rest/v1/resultService/resultStatus/\"+resultId).json().get(\"status\")\n",
    "    print(\"=>\",end='')\n",
    "    not_done = True if (status == 'RUNNING') else False\n",
    "print('\\t')\n",
    "print(\"Status : \" + status)\n",
    "\n",
    "if status == 'AVAILABLE':\n",
    "    query_results = session.get(\"https://ssc.hms.harvard.edu/rest/v1/resultService/result/\"+resultId+\"/CSV\").text\n",
    "    print('-----Status Available------')\n",
    "    print(query_results)\n",
    "else:\n",
    "    print('-----ERROR!------\\n status is not available')"
   ]
  },
  {
   "cell_type": "markdown",
   "metadata": {},
   "source": [
    "### Running the Queries (3) \n",
    "This is to query how many variants do all mothers have. Cross join is used in this function because the query is from two tables (MetaData and Data). The two tables are joined by a common variable (Individual_ID). It first queries from MetaData to find all the individuals who are with 'mother' status, and then queries from Data table to count the number of variants. The result shows there are 40274453 variants of all mothers have. "
   ]
  },
  {
   "cell_type": "code",
   "execution_count": 260,
   "metadata": {
    "collapsed": false
   },
   "outputs": [
    {
     "name": "stdout",
     "output_type": "stream",
     "text": [
      "resultId: 230887\n",
      "DONE...\n",
      "Wait until query is done processing\n",
      "=>=>=>=>=>=>=>=>=>=>=>=>=>=>=>=>=>=>=>=>=>=>=>=>=>=>=>=>=>=>=>=>=>=>=>=>=>=>=>=>=>=>=>=>=>=>=>=>=>=>=>=>=>=>=>=>=>=>=>=>=>=>=>=>=>=>=>=>=>=>=>=>=>=>=>=>=>=>=>=>=>=>=>=>=>=>=>=>=>=>=>=>=>=>=>=>=>=>=>=>=>=>=>=>=>=>=>=>=>=>=>=>=>=>=>=>=>=>=>=>=>=>=>=>=>=>=>=>=>=>=>=>=>=>=>=>=>=>=>=>=>=>=>=>=>=>\t\n",
      "Status : AVAILABLE\n"
     ]
    }
   ],
   "source": [
    "## query how many variants do all mothers have?\n",
    "\n",
    "request = \"\"\"{\n",
    "\"select\": [\n",
    "      {\n",
    "        \"field\": {\n",
    "          \"pui\": \"/SciDB/MetaData/Individual_ID\"\n",
    "        },\n",
    "        \"operation\": \"AGGREGATE\",\n",
    "        \"fields\" : {\n",
    "           \"FUNCTION\" : \"count\"\n",
    "        }\n",
    "      }\n",
    "  ],\n",
    "  \"join\" : [\n",
    "      {\n",
    "        \"field\": {\n",
    "           \"pui\": \"/SciDB/Data/Individual_ID\"\n",
    "        },\n",
    "        \"joinType\" : \"CROSSJOIN\",\n",
    "        \"fields\" : {\n",
    "           \"RIGHT\" : {\n",
    "           \"where\": [\n",
    "                   {\n",
    "                \"field\": {\n",
    "                \"pui\": \"/SciDB/MetaData/Status\",\n",
    "                \"dataType\": \"ATTRIBUTE\"\n",
    "                },\n",
    "                \"predicate\": \"FILTER\",\n",
    "                \"fields\": {\n",
    "                \"OPERATOR\" : \"EQ\",\n",
    "                \"VALUE\" : \"mo\"\n",
    "                    }\n",
    "                    }\n",
    "           ]\n",
    "           },\n",
    "           \"DIMENSIONS\" : \"MetaData.Individual_ID\"\n",
    "        }\n",
    "      }\n",
    "    ]\n",
    "}\"\"\"\n",
    "resultId = str(session.post(\"https://ssc.hms.harvard.edu/rest/v1/queryService/runQuery\", data=request).json().get('resultId'))\n",
    "print('resultId: ' + resultId)\n",
    "print(\"DONE...\")\n",
    "\n",
    "status = session.get(\"https://ssc.hms.harvard.edu/rest/v1/resultService/resultStatus/\"+resultId).json()\n",
    "status\n",
    "not_done = True\n",
    "if not_done == True:\n",
    "    print(\"Wait until query is done processing\")\n",
    "while not_done :\n",
    "    status = session.get(\"https://ssc.hms.harvard.edu/rest/v1/resultService/resultStatus/\"+resultId).json().get(\"status\")\n",
    "    print(\"=>\",end='')\n",
    "    not_done = True if (status == 'RUNNING') else False\n",
    "print('\\t')\n",
    "print(\"Status : \" + status)"
   ]
  },
  {
   "cell_type": "code",
   "execution_count": 119,
   "metadata": {
    "collapsed": false
   },
   "outputs": [
    {
     "name": "stdout",
     "output_type": "stream",
     "text": [
      "-----Status Available------\n",
      "i,count\r\n",
      "0,40274453\r\n",
      "\n",
      "40274453\r\n"
     ]
    }
   ],
   "source": [
    "if status == 'AVAILABLE':\n",
    "    query_results = session.get(\"https://ssc.hms.harvard.edu/rest/v1/resultService/result/\"+resultId+\"/CSV\").text\n",
    "    print('-----Status Available------')\n",
    "    print(query_results)\n",
    "    mo_no = query_results.split('\\n')[1].split(',')[1]\n",
    "else:\n",
    "    print('-----ERROR!------\\n status is not available')\n",
    "print(mo_no)"
   ]
  },
  {
   "cell_type": "markdown",
   "metadata": {},
   "source": [
    "### Running the Queries (4) \n",
    "This is to query how many variants do all fathers have. Cross join is used in this function because the query is from two tables (MetaData and Data). The two tables are joined by a common variable (Individual_ID). It first queries from MetaData to find all the individuals who are with 'father' status, and then queries from Data table to count the number of variants. The result shows there are 40284146 variants of all father have. "
   ]
  },
  {
   "cell_type": "code",
   "execution_count": 132,
   "metadata": {
    "collapsed": false
   },
   "outputs": [
    {
     "name": "stdout",
     "output_type": "stream",
     "text": [
      "resultId: 230442\n",
      "DONE...\n",
      "Wait until query is done processing\n",
      "=>=>=>=>=>=>=>=>=>=>=>=>=>=>=>=>=>=>=>=>=>=>=>=>=>=>=>=>=>=>=>=>=>=>=>=>=>=>=>=>=>=>=>=>=>=>=>=>=>=>=>=>=>=>=>=>=>=>=>=>=>=>=>=>=>=>=>=>=>=>=>=>=>=>=>=>=>=>=>=>=>=>=>=>=>=>=>=>=>=>=>=>=>=>=>=>=>=>=>=>=>=>=>=>=>=>=>=>=>=>=>=>=>=>=>=>=>=>=>=>=>=>=>=>=>=>=>=>=>=>=>=>=>=>=>=>=>=>=>=>=>=>=>=>=>=>=>=>=>=>=>=>=>=>=>=>=>\t\n",
      "Status : AVAILABLE\n"
     ]
    }
   ],
   "source": [
    "## query how many variants do all fathers have?\n",
    "\n",
    "request = \"\"\"{\n",
    "\"select\": [\n",
    "      {\n",
    "        \"field\": {\n",
    "          \"pui\": \"/SciDB/MetaData/Individual_ID\"\n",
    "        },\n",
    "        \"operation\": \"AGGREGATE\",\n",
    "        \"fields\" : {\n",
    "           \"FUNCTION\" : \"count\"\n",
    "        }\n",
    "      }\n",
    "  ],\n",
    "  \"join\" : [\n",
    "      {\n",
    "        \"field\": {\n",
    "           \"pui\": \"/SciDB/Data/Individual_ID\"\n",
    "        },\n",
    "        \"joinType\" : \"CROSSJOIN\",\n",
    "        \"fields\" : {\n",
    "           \"RIGHT\" : {\n",
    "           \"where\": [\n",
    "                   {\n",
    "                \"field\": {\n",
    "                \"pui\": \"/SciDB/MetaData/Status\",\n",
    "                \"dataType\": \"ATTRIBUTE\"\n",
    "                },\n",
    "                \"predicate\": \"FILTER\",\n",
    "                \"fields\": {\n",
    "                \"OPERATOR\" : \"EQ\",\n",
    "                \"VALUE\" : \"fa\"\n",
    "                    }\n",
    "                    }\n",
    "           ]\n",
    "           },\n",
    "           \"DIMENSIONS\" : \"MetaData.Individual_ID\"\n",
    "        }\n",
    "      }\n",
    "    ]\n",
    "}\"\"\"\n",
    "\n",
    "resultId = str(session.post(\"https://ssc.hms.harvard.edu/rest/v1/queryService/runQuery\", data=request).json().get('resultId'))\n",
    "print('resultId: ' + resultId)\n",
    "print(\"DONE...\")\n",
    "\n",
    "status = session.get(\"https://ssc.hms.harvard.edu/rest/v1/resultService/resultStatus/\"+resultId).json()\n",
    "status\n",
    "not_done = True\n",
    "if not_done == True:\n",
    "    print(\"Wait until query is done processing\")\n",
    "while not_done :\n",
    "    status = session.get(\"https://ssc.hms.harvard.edu/rest/v1/resultService/resultStatus/\"+resultId).json().get(\"status\")\n",
    "    print(\"=>\",end='')\n",
    "    not_done = True if (status == 'RUNNING') else False\n",
    "print('\\t')\n",
    "print(\"Status : \" + status)"
   ]
  },
  {
   "cell_type": "code",
   "execution_count": 133,
   "metadata": {
    "collapsed": false
   },
   "outputs": [
    {
     "name": "stdout",
     "output_type": "stream",
     "text": [
      "-----Status Available------\n",
      "i,count\r\n",
      "0,40284146\r\n",
      "\n",
      "40284146\r\n"
     ]
    }
   ],
   "source": [
    "if status == 'AVAILABLE':\n",
    "    query_results = session.get(\"https://ssc.hms.harvard.edu/rest/v1/resultService/result/\"+resultId+\"/CSV\").text\n",
    "    print('-----Status Available------')\n",
    "    print(query_results)\n",
    "    fa_no = query_results.split('\\n')[1].split(',')[1]\n",
    "else:\n",
    "    print('-----ERROR!------\\n status is not available')\n",
    "print(fa_no)"
   ]
  },
  {
   "cell_type": "markdown",
   "metadata": {},
   "source": [
    "### Running the Queries (5) \n",
    "This is to query how many variants do all probands have. Cross join is used in this function because the query is from two tables (MetaData and Data). The two tables are joined by a common variable (Individual_ID). It first queries from MetaData to find all the individuals who are with 'probands (p1)' status, and then queries from Data table to count the number of variants. The result shows there are 40329967 variants of all probands have. "
   ]
  },
  {
   "cell_type": "code",
   "execution_count": 154,
   "metadata": {
    "collapsed": false
   },
   "outputs": [
    {
     "name": "stdout",
     "output_type": "stream",
     "text": [
      "resultId: 230448\n",
      "DONE...\n",
      "Wait until query is done processing\n",
      "=>=>=>=>=>=>=>=>=>=>=>=>=>=>=>=>=>=>=>=>=>=>=>=>=>=>=>=>=>=>=>=>=>=>=>=>=>=>=>=>=>=>=>=>=>=>=>=>=>=>=>=>=>=>=>=>=>=>=>=>=>=>=>=>=>=>=>=>=>=>=>=>=>=>=>=>=>=>=>=>=>=>=>=>=>=>=>=>=>=>=>=>=>=>=>=>=>=>=>=>=>=>=>=>=>=>=>=>=>=>=>=>=>=>=>=>=>=>=>=>=>=>=>=>=>=>=>=>=>=>\t\n",
      "Status : AVAILABLE\n"
     ]
    }
   ],
   "source": [
    "## query how many variants do all probands have?\n",
    "\n",
    "request = \"\"\"{\n",
    "\"select\": [\n",
    "      {\n",
    "        \"field\": {\n",
    "          \"pui\": \"/SciDB/MetaData/Individual_ID\"\n",
    "        },\n",
    "        \"operation\": \"AGGREGATE\",\n",
    "        \"fields\" : {\n",
    "           \"FUNCTION\" : \"count\"\n",
    "        }\n",
    "      }\n",
    "  ],\n",
    "  \"join\" : [\n",
    "      {\n",
    "        \"field\": {\n",
    "           \"pui\": \"/SciDB/Data/Individual_ID\"\n",
    "        },\n",
    "        \"joinType\" : \"CROSSJOIN\",\n",
    "        \"fields\" : {\n",
    "           \"RIGHT\" : {\n",
    "           \"where\": [\n",
    "                   {\n",
    "                \"field\": {\n",
    "                \"pui\": \"/SciDB/MetaData/Status\",\n",
    "                \"dataType\": \"ATTRIBUTE\"\n",
    "                },\n",
    "                \"predicate\": \"FILTER\",\n",
    "                \"fields\": {\n",
    "                \"OPERATOR\" : \"EQ\",\n",
    "                \"VALUE\" : \"p1\"\n",
    "                    }\n",
    "                    }\n",
    "           ]\n",
    "           },\n",
    "           \"DIMENSIONS\" : \"MetaData.Individual_ID\"\n",
    "        }\n",
    "      }\n",
    "    ]\n",
    "}\"\"\"\n",
    "\n",
    "resultId = str(session.post(\"https://ssc.hms.harvard.edu/rest/v1/queryService/runQuery\", data=request).json().get('resultId'))\n",
    "print('resultId: ' + resultId)\n",
    "print(\"DONE...\")\n",
    "\n",
    "status = session.get(\"https://ssc.hms.harvard.edu/rest/v1/resultService/resultStatus/\"+resultId).json()\n",
    "status\n",
    "not_done = True\n",
    "if not_done == True:\n",
    "    print(\"Wait until query is done processing\")\n",
    "while not_done :\n",
    "    status = session.get(\"https://ssc.hms.harvard.edu/rest/v1/resultService/resultStatus/\"+resultId).json().get(\"status\")\n",
    "    print(\"=>\",end='')\n",
    "    not_done = True if (status == 'RUNNING') else False\n",
    "print('\\t')\n",
    "print(\"Status : \" + status)"
   ]
  },
  {
   "cell_type": "code",
   "execution_count": 155,
   "metadata": {
    "collapsed": false
   },
   "outputs": [
    {
     "name": "stdout",
     "output_type": "stream",
     "text": [
      "-----Status Available------\n",
      "i,count\r\n",
      "0,40329967\r\n",
      "\n",
      "40329967\r\n"
     ]
    }
   ],
   "source": [
    "if status == 'AVAILABLE':\n",
    "    query_results = session.get(\"https://ssc.hms.harvard.edu/rest/v1/resultService/result/\"+resultId+\"/CSV\").text\n",
    "    print('-----Status Available------')\n",
    "    print(query_results)\n",
    "    p1_no = query_results.split('\\n')[1].split(',')[1]\n",
    "else:\n",
    "    print('-----ERROR!------\\n status is not available')\n",
    "print(p1_no)"
   ]
  },
  {
   "cell_type": "markdown",
   "metadata": {},
   "source": [
    "### Visualization\n",
    "After retrieval the number of variant do all mothers/fathers/probands have, the results can be visualized by using the pie chart. As it can be seen from the graphs, there are approximate equivalent variants number of all mothers, fathers and probands."
   ]
  },
  {
   "cell_type": "code",
   "execution_count": 161,
   "metadata": {
    "collapsed": false
   },
   "outputs": [
    {
     "data": {
      "image/png": "[encoded data removed]",
      "text/plain": [
       "<matplotlib.figure.Figure at 0x7f27c534f7f0>"
      ]
     },
     "metadata": {},
     "output_type": "display_data"
    }
   ],
   "source": [
    "labels = 'variants of all mothers\\n'+str(mo_no).strip(), 'variants of all fathers\\n'+str(fa_no).strip(), 'variants of all probands\\n'+str(p1_no).strip()\n",
    "sizes = [int(mo_no),int(fa_no),int(p1_no)]\n",
    "colors = ['yellowgreen', 'gold','lightskyblue']\n",
    "explode = (0, 0,0.1) # only \"explode\" the 2nd slice \n",
    "\n",
    "plt.pie(sizes, explode=explode, labels=labels, colors=colors,\n",
    "        autopct='%1.1f%%', shadow=True, startangle=90)\n",
    "# Set aspect ratio to be equal so that pie is drawn as a circle.\n",
    "plt.axis('equal')\n",
    "\n",
    "plt.show()"
   ]
  }
 ],
 "metadata": {
  "kernelspec": {
   "display_name": "Python 3",
   "language": "python",
   "name": "python3"
  },
  "language_info": {
   "codemirror_mode": {
    "name": "ipython",
    "version": 3
   },
   "file_extension": ".py",
   "mimetype": "text/x-python",
   "name": "python",
   "nbconvert_exporter": "python",
   "pygments_lexer": "ipython3",
   "version": "3.5.2"
  }
 },
 "nbformat": 4,
 "nbformat_minor": 1
}
